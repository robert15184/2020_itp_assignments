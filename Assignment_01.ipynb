{
 "cells": [
  {
   "cell_type": "markdown",
   "metadata": {},
   "source": [
    "# Introduction to Programming (Online 2020)\n",
    "## Assignment 1"
   ],
   "execution_count": null,
   "outputs": []
  },
  {
   "cell_type": "markdown",
   "metadata": {},
   "source": [
    "## Question 1\n",
    "### Basic mathematical operations\n",
    "\n",
    "Basic mathematical operations between two integers:\n",
    "\n",
    "Using 16 and 5 as the values, perform the following operations:\n",
    "+ addition\n",
    "+ subtraction\n",
    "+ multiplication\n",
    "+ division\n",
    "+ power (16^5)\n",
    "\n",
    "You should output the type of the result as well as the result. eg:\n",
    "+ operation: 16 + 5 \n",
    "+ output: < class 'int'> 21"
   ],
   "execution_count": null,
   "outputs": []
  },
  {
   "cell_type": "code",
   "execution_count": 12,
   "metadata": {},
   "outputs": [
    {
     "output_type": "stream",
     "name": "stdout",
     "text": "16+5 = 21\n16-5 = 11\n16*5 = 80\n16/5 = 3.2\n16**5 = 1048576\n"
    }
   ],
   "source": [
    "# CODE FOR 1\n",
    "print('16+5 =', 16+5) #addition\n",
    "\n",
    "print('16-5 =', 16-5) #subtraction\n",
    "\n",
    "print('16*5 =', 16*5) #multiplcation\n",
    "\n",
    "print('16/5 =', 16/5) #division\n",
    "\n",
    "print('16**5 =', 16**5) #power\n",
    ""
   ]
  },
  {
   "cell_type": "markdown",
   "metadata": {},
   "source": [
    "### A note on `assert` statements\n",
    "\n",
    "Assert statements are used as checks that run at some point during the execution of a program. As an example, this could be after some data is downloaded from the internet, and you need to make sure that it was downloaded correctly before processing it.\n",
    "\n",
    "The structure of an assert statements is as follows:\n",
    "    + assert <conditional_expression>, <error_message_to_print>\n",
    "\n",
    "When the condition returns `True`, this line will not do anything, and the program will continue to execute. When the expression returns `False` though, the assert statement will raise an `AssertionError`.\n",
    "\n",
    "In the assignments, assert statements are used to define test cases that check whether your solution is correct or not.\n",
    "\n",
    "For example, in Question 2 of this assignment, the first assert statement checks whether the `result_addition` variable is equal to the sum of the two numbers that were input.\n",
    "If `results_addition` does not equal `number1 + number2` then an `AssertionError` will be thrown with the message showing the values for result_addition, number1, and number2 in expression form.\n",
    "\n",
    "If your code passes all the checks, then the final print statment will be displayed."
   ],
   "execution_count": null,
   "outputs": []
  },
  {
   "cell_type": "code",
   "execution_count": null,
   "metadata": {},
   "outputs": [],
   "source": [
    "assert False"
   ]
  },
  {
   "cell_type": "markdown",
   "metadata": {},
   "source": [
    "## Question 2\n",
    "### Variables\n",
    "\n",
    "Perform the same operations as in Question 1, except use the input() operation to get two integers. In addition store the result of each operation in a variable called result_< operation > eg result_addition for addition (Assume that the user will always enter valid input)."
   ],
   "execution_count": null,
   "outputs": []
  },
  {
   "cell_type": "code",
   "execution_count": 13,
   "metadata": {},
   "outputs": [
    {
     "output_type": "stream",
     "name": "stdout",
     "text": "All assert checks have passed\n"
    }
   ],
   "source": [
    "number1 = 16#ADD CODE TO GET FIRST INT\n",
    "number2 = 5 #ADD CODE TO GET SECOND INT\n",
    "\n",
    "# Replace '0' with the expression for each operation\n",
    "# ADDITION\n",
    "result_addition = number1 + number2\n",
    "# SUBTRACTION\n",
    "result_subtraction = number1 - number2\n",
    "# MULTIPLICATION\n",
    "result_multiplication = number1 * number2\n",
    "# DIVISION\n",
    "result_division = number1 / number2\n",
    "# POWER\n",
    "result_power = number1 ** number2\n",
    "\n",
    "# THIS IS TO CHECK YOUR CODE, DON'T CHANGE THIS\n",
    "# IF YOUR CODE IS CORRECT YOU WILL NOT GET ANY ERRORS\n",
    "assert result_addition == number1 + number2, \"{} != {} + {}\".format(result_addition, number1, number2)\n",
    "assert result_subtraction == number1 - number2, \"{} != {} - {}\".format(result_addition, number1, number2)\n",
    "assert result_multiplication == number1 * number2, \"{} != {} * {}\".format(result_addition, number1, number2)\n",
    "assert result_division == number1 / number2, \"{} != {} / {}\".format(result_addition, number1, number2)\n",
    "assert result_power == number1 ** number2, \"{} != {} ** {}\".format(result_addition, number1, number2)\n",
    "\n",
    "print('All assert checks have passed')"
   ]
  },
  {
   "cell_type": "markdown",
   "metadata": {},
   "source": [
    "## Question 3\n",
    "### Conditionals\n",
    "\n",
    "#### 3.1)\n",
    "Write code to get an integer from the user (assume the user will always enter a integer) as input. \n",
    "\n",
    "If the integer is less than **14** print \"**The number is less than 14**\" and if the number is greater than or equal to 14 print \"**The number is 14 or larger**\"."
   ],
   "execution_count": null,
   "outputs": []
  },
  {
   "cell_type": "code",
   "execution_count": 27,
   "metadata": {
    "collapsed": true,
    "jupyter": {
     "outputs_hidden": true
    }
   },
   "outputs": [
    {
     "output_type": "stream",
     "name": "stdout",
     "text": "The number is less than 14\n"
    }
   ],
   "source": [
    "# CODE FOR 3.1\n",
    "\n",
    "x = 5\n",
    "if x > 14:\n",
    "        print(\"The number is 14 or larger\")\n",
    "else:   print(\"The number is less than 14\")    \n",
    "\n",
    "\n"
   ]
  },
  {
   "cell_type": "markdown",
   "metadata": {},
   "source": [
    "#### 3.2)\n",
    "Extend the code from 3.1 to also check whether the number is **a multiple of 11**. There are four options that can be output by your code now:\n",
    "+ The number is **a multiple of 11** and is **less than 14**.\n",
    "+ The number is **a multiple of 11** and is **greater than or equal to 14**.\n",
    "+ The number is **not a multiple of 11** and is **less than 14**.\n",
    "+ The number is **not a multiple of 11** and is **greater than or equal to 14**."
   ],
   "execution_count": null,
   "outputs": []
  },
  {
   "cell_type": "code",
   "execution_count": 33,
   "metadata": {},
   "outputs": [
    {
     "output_type": "stream",
     "name": "stdout",
     "text": "22\n0\n"
    }
   ],
   "source": [
    "x = 22\n",
    "y= x % 11\n",
    "print(x)\n",
    "print(y)"
   ]
  },
  {
   "cell_type": "code",
   "execution_count": 64,
   "metadata": {},
   "outputs": [
    {
     "output_type": "stream",
     "name": "stdout",
     "text": "The number is not a multiple of 11 and is greater than or equal to 14\n"
    }
   ],
   "source": [
    "# CODE FOR 3.2\n",
    "x = 14\n",
    "y = x % 11\n",
    "if x >= 14 and y == 0:\n",
    "        print(\"The number is a multiple of 11 and is greater than or equal to 14\")\n",
    "elif x >= 14 and y != 0:\n",
    "        print(\"The number is not a multiple of 11 and is greater than or equal to 14\")\n",
    "elif x <14 and y == 0:\n",
    "        print(\"The number is a multiple of 11 and is less than 14\") \n",
    "else:   \n",
    "        print(\"The number is not a multiple of 11 and is less than 14.\") "
   ]
  },
  {
   "cell_type": "markdown",
   "metadata": {},
   "source": [
    "#### 3.3)\n",
    "Extend the code from 3.2 to check whether the user has input an integer. If the number is not an integer print \"Error, the value which was input is not an integer\".\n",
    "\n",
    "There are now 5 possible output messages:\n",
    "+ Error, the value which was input is not an integer.\n",
    "+ The number is **a multiple of 11** and is **less than 14**.\n",
    "+ The number is **a multiple of 11** and is **greater than or equal to 14**.\n",
    "+ The number is **not a multiple of 11** and is **less than 14**.\n",
    "+ The number is **not a multiple of 11** and is **greater than or equal to 14**."
   ],
   "execution_count": null,
   "outputs": []
  },
  {
   "cell_type": "code",
   "execution_count": 97,
   "metadata": {},
   "outputs": [
    {
     "output_type": "stream",
     "name": "stdout",
     "text": "The number is not a multiple of 11 and is greater than or equal to 14\n"
    }
   ],
   "source": [
    "# CODE FOR 3.3\n",
    "x = 14\n",
    "y = x % 11\n",
    "\n",
    "if type(x) == float:\n",
    "        print(\"Error, the value which was input is not an integer\")\n",
    "elif x >= 14 and y == 0:\n",
    "        print(\"The number is a multiple of 11 and is greater than or equal to 14\")\n",
    "elif x >= 14 and y != 0:\n",
    "        print(\"The number is not a multiple of 11 and is greater than or equal to 14\")\n",
    "elif x <14 and y == 0:\n",
    "        print(\"The number is a multiple of 11 and is less than 14\") \n",
    "else:   \n",
    "        print(\"The number is not a multiple of 11 and is less than 14.\") "
   ]
  },
  {
   "cell_type": "markdown",
   "metadata": {},
   "source": [
    "## Question 4\n",
    "### Looping\n",
    "\n",
    "For each of shapes print using the following characters:\n",
    "+ Start by using only the '*' character\n",
    "+ Use the row index as the character\n",
    "+ Use the column index as the character\n",
    "+ Use the cummulative index as the character\n",
    "\n",
    "**For all of these questions assume that the user will always enter integers and that (1 <= input <= 9)**\n",
    "\n",
    "### Example (printing a square of size 'n'):\n",
    "```\n",
    "n=4\n",
    "* * * *\n",
    "* * * *\n",
    "* * * *\n",
    "* * * *\n",
    "```"
   ],
   "execution_count": null,
   "outputs": []
  },
  {
   "cell_type": "code",
   "execution_count": null,
   "metadata": {},
   "outputs": [],
   "source": []
  },
  {
   "cell_type": "code",
   "execution_count": 99,
   "metadata": {},
   "outputs": [
    {
     "output_type": "error",
     "ename": "ValueError",
     "evalue": "invalid literal for int() with base 10: ''",
     "traceback": [
      "\u001b[1;31m---------------------------------------------------------------------------\u001b[0m",
      "\u001b[1;31mValueError\u001b[0m                                Traceback (most recent call last)",
      "\u001b[1;32m<ipython-input-99-eb7f55aca5f5>\u001b[0m in \u001b[0;36m<module>\u001b[1;34m\u001b[0m\n\u001b[1;32m----> 1\u001b[1;33m \u001b[0mn\u001b[0m \u001b[1;33m=\u001b[0m \u001b[0mint\u001b[0m\u001b[1;33m(\u001b[0m\u001b[0minput\u001b[0m\u001b[1;33m(\u001b[0m\u001b[1;34m\"Enter n\"\u001b[0m\u001b[1;33m)\u001b[0m\u001b[1;33m)\u001b[0m\u001b[1;33m\u001b[0m\u001b[1;33m\u001b[0m\u001b[0m\n\u001b[0m\u001b[0;32m      2\u001b[0m \u001b[1;33m\u001b[0m\u001b[0m\n\u001b[0;32m      3\u001b[0m \u001b[1;31m# USING '*' AS THE CHARACTER\u001b[0m\u001b[1;33m\u001b[0m\u001b[1;33m\u001b[0m\u001b[1;33m\u001b[0m\u001b[0m\n\u001b[0;32m      4\u001b[0m \u001b[0mprint\u001b[0m\u001b[1;33m(\u001b[0m\u001b[1;34m'* Character\\n---------'\u001b[0m\u001b[1;33m)\u001b[0m\u001b[1;33m\u001b[0m\u001b[1;33m\u001b[0m\u001b[0m\n\u001b[0;32m      5\u001b[0m \u001b[1;32mfor\u001b[0m \u001b[0mj\u001b[0m \u001b[1;32min\u001b[0m \u001b[0mrange\u001b[0m\u001b[1;33m(\u001b[0m\u001b[0mn\u001b[0m\u001b[1;33m)\u001b[0m\u001b[1;33m:\u001b[0m\u001b[1;33m\u001b[0m\u001b[1;33m\u001b[0m\u001b[0m\n",
      "\u001b[1;31mValueError\u001b[0m: invalid literal for int() with base 10: ''"
     ]
    }
   ],
   "source": [
    "n = int(input(\"Enter n\"))\n",
    "\n",
    " USING '*' AS THE CHARACTER\n",
    "print('* Character\\n---------')\n",
    "for j in range(n):\n",
    "    line = ''\n",
    "    for i in range(n):\n",
    "        line += '{:>2}'.format('*')\n",
    "    print(line)\n",
    "    \n",
    "# USING THE ROW INDEX AS THE CHARACTER\n",
    "print('Row Index\\n---------')\n",
    "for j in range(n):\n",
    "    line = ''\n",
    "    for i in range(n):\n",
    "        line += '{:>3}'.format(j)\n",
    "    print(line)\n",
    "    \n",
    "# USING THE COL INDEX AS THE CHARACTER\n",
    "print('Column Index\\n---------')\n",
    "for j in range(n):\n",
    "    line = ''\n",
    "    for i in range(n):\n",
    "        line += '{:>3}'.format(i)\n",
    "    print(line)\n",
    "\n",
    "# USING THE CUMULATIVE INDEX AS THE CHARACTER\n",
    "print('Cumulative Index\\n---------')\n",
    "for j in range(n):\n",
    "    line = ''\n",
    "    for i in range(n):\n",
    "        line += '{:>3}'.format(j * n + i)\n",
    "    print(line)"
   ]
  },
  {
   "cell_type": "markdown",
   "metadata": {},
   "source": [
    "#### 4.1)\n",
    "Print a rectangle with height **n** and width **m**\n",
    "\n",
    "**eg:**: n = 3, m = 2\n",
    "```\n",
    " * Character\n",
    "------------\n",
    "  * *\n",
    "  * *\n",
    "  * *\n",
    "  \n",
    "Row Index\n",
    "---------\n",
    "  0  0\n",
    "  1  1\n",
    "  2  2\n",
    "Column Index\n",
    "------------\n",
    "  0  1\n",
    "  0  1\n",
    "  0  1\n",
    "Cumulative Index\n",
    "----------------\n",
    "  0  1\n",
    "  2  3\n",
    "  4  5\n",
    "```"
   ],
   "execution_count": null,
   "outputs": []
  },
  {
   "cell_type": "code",
   "execution_count": 150,
   "metadata": {
    "collapsed": true,
    "jupyter": {
     "outputs_hidden": true
    }
   },
   "outputs": [
    {
     "output_type": "stream",
     "name": "stdout",
     "text": "* Character\n---------\n * *\n * *\n * *\nRow Index\n---------\n  0  0\n  1  1\n  2  2\nColumn Index\n---------\n  0  1\n  0  1\n  0  1\nCumulative Index\n---------\n  0  1\n  2  3\n  4  5\n"
    }
   ],
   "source": [
    "#n = int(input( enter n))\n",
    "#m = int(input(enter m))\n",
    "\n",
    "\n",
    "n = int(3)\n",
    "m = int(2)\n",
    "\n",
    "\n",
    "\n",
    " #USING '*' AS THE CHARACTER\n",
    "print('* Character\\n---------')\n",
    "for j in range(n):\n",
    "    line = ''\n",
    "    for i in range(m):\n",
    "        line += '{:>2}'.format('*')\n",
    "    print(line)\n",
    "\n",
    "    # USING THE ROW INDEX AS THE CHARACTER\n",
    "print('Row Index\\n---------')\n",
    "for j in range(n):\n",
    "    line = ''\n",
    "    for i in range(m):\n",
    "        line += '{:>3}'.format(j)\n",
    "    print(line)\n",
    "    \n",
    "# USING THE COL INDEX AS THE CHARACTER\n",
    "print('Column Index\\n---------')\n",
    "for j in range(n):\n",
    "    line = ''\n",
    "    for i in range(m):\n",
    "        line += '{:>3}'.format(i)\n",
    "    print(line)\n",
    "\n",
    "# USING THE CUMULATIVE INDEX AS THE CHARACTER\n",
    "print('Cumulative Index\\n---------')\n",
    "for j in range(n):\n",
    "    line = ''\n",
    "    for i in range(m):\n",
    "        line += '{:>3}'.format(j * m + i)\n",
    "    print(line)"
   ]
  },
  {
   "cell_type": "markdown",
   "metadata": {},
   "source": [
    "#### 4.2)\n",
    "Print an isosceles triangle with height and width equal to **n** and the right angled corner on the bottom left.\n",
    "\n",
    "Tip:\n",
    "\n",
    "For the cumulative index you can use the formula for triangle number to calculate the offset of the first column of each row.\n",
    "\n",
    "https://www.mathsisfun.com/algebra/triangular-numbers.html\n",
    "\n",
    "**eg:**: n = 5\n",
    "```\n",
    "\n",
    "* Character\n",
    "---------\n",
    "  *\n",
    "  * *\n",
    "  * * * \n",
    "  * * * *\n",
    "  * * * * *\n",
    "Row Index\n",
    "---------\n",
    "  0\n",
    "  1  1\n",
    "  2  2  2\n",
    "  3  3  3  3\n",
    "  4  4  4  4  4\n",
    "Column Index\n",
    "---------\n",
    "  0\n",
    "  0  1\n",
    "  0  1  2\n",
    "  0  1  2  3\n",
    "  0  1  2  3  4\n",
    "Cumulative Index\n",
    "---------\n",
    "  0\n",
    "  1  2\n",
    "  3  4  5\n",
    "  6  7  8  9 \n",
    " 10 11 12 13 14\n",
    "\n",
    "```"
   ],
   "execution_count": null,
   "outputs": []
  },
  {
   "cell_type": "code",
   "execution_count": 174,
   "metadata": {
    "collapsed": true,
    "jupyter": {
     "outputs_hidden": true
    }
   },
   "outputs": [
    {
     "output_type": "stream",
     "name": "stdout",
     "text": "* Character\n---------\n * *\n * *\n * *\nRow Index\n---------\n  0  0\n  1  1\n  2  2\nColumn Index\n---------\n  0  1\n  0  1\n  0  1\nCumulative Index\n---------\n  0  1\n  2  3\n  4  5\n"
    }
   ],
   "source": [
    "#n = int(input(\"Enter n\"))\n",
    "\n",
    "\n",
    "n = int(3)\n",
    "m = int(2)\n",
    "\n",
    "\n",
    "\n",
    " #USING '*' AS THE CHARACTER\n",
    "print('* Character\\n---------')\n",
    "for j in range(n):\n",
    "    line = ''\n",
    "    for i in range(m):\n",
    "        line += '{:>2}'.format('*')\n",
    "    print(line)\n",
    "\n",
    "    # USING THE ROW INDEX AS THE CHARACTER\n",
    "print('Row Index\\n---------')\n",
    "for j in range(n):\n",
    "    line = ''\n",
    "    for i in range(m):\n",
    "        line += '{:>3}'.format(j)\n",
    "    print(line)\n",
    "    \n",
    "# USING THE COL INDEX AS THE CHARACTER\n",
    "print('Column Index\\n---------')\n",
    "for j in range(n):\n",
    "    line = ''\n",
    "    for i in range(m):\n",
    "        line += '{:>3}'.format(i)\n",
    "    print(line)\n",
    "\n",
    "# USING THE CUMULATIVE INDEX AS THE CHARACTER\n",
    "print('Cumulative Index\\n---------')\n",
    "for j in range(n):\n",
    "    line = ''\n",
    "    for i in range(m):\n",
    "        line += '{:>3}'.format(j * m + i)\n",
    "    print(line)"
   ]
  },
  {
   "cell_type": "markdown",
   "metadata": {},
   "source": [
    "#### 4.3)\n",
    "Print an isosceles triangle with height and width equal to **n** and the right angled corner on the upper left.\n",
    "\n",
    "Tip:\n",
    "\n",
    "For the cumulative index you can use triangle numbers, though the forumula used in the previous question will need to be modified slightly. Alternatively, an extra variable can be used to keep track of the index.\n",
    "\n",
    "**eg:**: n = 5\n",
    "```\n",
    "* Character\n",
    "---------\n",
    "  * * * * *\n",
    "  * * * *\n",
    "  * * *\n",
    "  * *\n",
    "  *\n",
    "Row Index\n",
    "---------\n",
    "  0  0  0  0  0\n",
    "  1  1  1  1\n",
    "  2  2  2\n",
    "  3  3\n",
    "  4\n",
    "Column Index\n",
    "---------\n",
    "  0  1  2  3  4\n",
    "  0  1  2  3\n",
    "  0  1  2\n",
    "  0  1\n",
    "  0\n",
    "Cumulative Index\n",
    "---------\n",
    "  0  1  2  3  4\n",
    "  5  6  7  8\n",
    "  9 10 11\n",
    " 12 13\n",
    " 14\n",
    "```"
   ],
   "execution_count": null,
   "outputs": []
  },
  {
   "cell_type": "code",
   "execution_count": null,
   "metadata": {},
   "outputs": [],
   "source": []
  },
  {
   "cell_type": "code",
   "execution_count": 259,
   "metadata": {},
   "outputs": [
    {
     "output_type": "stream",
     "name": "stdout",
     "text": "Cumulative Index\n---------\n  0\n  0  1\n  1  2  3\n  1  3  4  6\n  2  4  6  8 10\n"
    }
   ],
   "source": [
    "n = int(5)\n",
    "\n",
    "# USING THE CUMULATIVE INDEX AS THE CHARACTER\n",
    "print('Cumulative Index\\n---------')\n",
    "for j in range(n):\n",
    "    line = ''\n",
    "    for i in range(j+1):\n",
    "        line += '{:>3}'.format((j * (i+1)) //2)\n",
    "    print(line)"
   ]
  },
  {
   "cell_type": "code",
   "execution_count": 236,
   "metadata": {},
   "outputs": [
    {
     "output_type": "stream",
     "name": "stdout",
     "text": "* Character\n---------\n  *\n  *  *\n  *  *  *\n  *  *  *  *\n  *  *  *  *  *\nRow Index\n---------\n  0\n  1  1\n  2  2  2\n  3  3  3  3\n  4  4  4  4  4\nColumn Index\n---------\n  0\n  0  1\n  0  1  2\n  0  1  2  3\n  0  1  2  3  4\nCumulative Index\n---------\n  0\n  1  1\n  4  4  4\n  9  9  9  9\n 16 16 16 16 16\n"
    }
   ],
   "source": [
    "#n = int(input(\"Enter n\"))\n",
    "\n",
    "n = int(5)\n",
    "\n",
    "\n",
    "\n",
    "\n",
    " #USING '*' AS THE CHARACTER\n",
    "print('* Character\\n---------')\n",
    "for j in range(n):\n",
    "    line = ''\n",
    "    for i in range(j+1):\n",
    "        line += '{:>3}'.format('*')\n",
    "    print(line)\n",
    "\n",
    "    # USING THE ROW INDEX AS THE CHARACTER\n",
    "print('Row Index\\n---------')\n",
    "for j in range(n):\n",
    "    line = ''\n",
    "    for i in range(j+1):\n",
    "        line += '{:>3}'.format(j)\n",
    "    print(line)\n",
    "    \n",
    "# USING THE COL INDEX AS THE CHARACTER\n",
    "print('Column Index\\n---------')\n",
    "for j in range(n):\n",
    "    line = ''\n",
    "    for i in range(j+1):\n",
    "        line += '{:>3}'.format(i)\n",
    "    print(line)\n",
    "\n",
    "# USING THE CUMULATIVE INDEX AS THE CHARACTER\n",
    "print('Cumulative Index\\n---------')\n",
    "for j in range(n):\n",
    "    line = ''\n",
    "    for i in range(j+1):\n",
    "        line += '{:>3}'.format(j * j+1 //2)\n",
    "    print(line)"
   ]
  },
  {
   "cell_type": "markdown",
   "metadata": {},
   "source": [
    "## Question 5\n",
    "### Finding Prime Numbers\n",
    "\n",
    "Write code which finds all of the prime numbers between 2 and 100 and store them in a list.\n",
    "Then print the list of prime numbers.\n",
    "\n",
    "A prime number is a number which is only divisible by itself and 1.\n",
    "\n",
    "Some starting code has been provided."
   ],
   "execution_count": null,
   "outputs": []
  },
  {
   "cell_type": "code",
   "execution_count": 132,
   "metadata": {},
   "outputs": [
    {
     "output_type": "stream",
     "name": "stdout",
     "text": "[2, 3, 5, 7, 11, 13, 17, 19, 23, 29, 31, 37, 41, 43, 47, 53, 59, 61, 67, 71, 73, 79, 83, 89, 97]\n"
    }
   ],
   "source": [
    "results = []\n",
    "for i in range(2, 101):\n",
    "    prime = True\n",
    "    for j in range(2, i//2+1):\n",
    "        if (i % j == 0):\n",
    "            prime = False\n",
    "    if (prime == True and j != 1):\n",
    "        results.append(i)\n",
    "       \n",
    "\n",
    "print(results)\n",
    "# expected output: [2, 3, 5, 7, 11, 13, 17, 19, 23, 29, 31, 37, 41, 43, 47, 53, 59, 61, 67, 71, 73, 79, 83, 89, 97]"
   ]
  },
  {
   "cell_type": "markdown",
   "metadata": {},
   "source": [
    "## Question 6\n",
    "### git and github\n",
    "\n",
    "Some information about git can be found here https://guides.github.com/introduction/git-handbook/ .\n",
    "\n",
    "\n",
    "1. Create a directory called '2020_itp_assignments'. \n",
    "    + **Do not** make this directory in the itp_2020 directory which contains the lecture material\n",
    "    + This is because a directory can only contain a single .git repository\n",
    "2. Add this Jupyter notebook to the directory you just created. (copy and paste it)\n",
    "3. Initialize this directory as a git repository\n",
    "4. Git add your assignment notebook to the repository\n",
    "    + This will move the file to the staging area\n",
    "5. Commit your assignment\n",
    "    + This saves a snapshot of the file you added\n",
    "6. On github.com create a new repository called 2020_itp_assigments\n",
    "7. Make this repo public when creating it.\n",
    "8. Link the github repository with your local repository\n",
    "    + Follow the instructions shown when you create the repo on GitHub\n",
    "9. Push your assignment / changes upstream to github\n",
    "10. Go to GitHub and make sure that the file you added is now online.\n"
   ],
   "execution_count": null,
   "outputs": []
  }
 ],
 "metadata": {
  "kernelspec": {
   "display_name": "Python 3",
   "language": "python",
   "name": "python3"
  },
  "language_info": {
   "codemirror_mode": {
    "name": "ipython",
    "version": 3
   },
   "file_extension": ".py",
   "mimetype": "text/x-python",
   "name": "python",
   "nbconvert_exporter": "python",
   "pygments_lexer": "ipython3",
   "version": "3.7.6-final"
  }
 },
 "nbformat": 4,
 "nbformat_minor": 4
}